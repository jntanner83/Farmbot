{
  "cells": [
    {
      "cell_type": "markdown",
      "metadata": {
        "id": "view-in-github",
        "colab_type": "text"
      },
      "source": [
        "<a href=\"https://colab.research.google.com/github/jntanner83/Farmbot/blob/main/Custom_CNN_Model.ipynb\" target=\"_parent\"><img src=\"https://colab.research.google.com/assets/colab-badge.svg\" alt=\"Open In Colab\"/></a>"
      ]
    },
    {
      "cell_type": "markdown",
      "id": "429db8e1",
      "metadata": {
        "id": "429db8e1"
      },
      "source": [
        "Libraries"
      ]
    },
    {
      "cell_type": "code",
      "execution_count": null,
      "id": "0cb3cf2e",
      "metadata": {
        "id": "0cb3cf2e"
      },
      "outputs": [],
      "source": [
        "#Load libraries\n",
        "import os\n",
        "import numpy as np\n",
        "import torch\n",
        "import glob\n",
        "import torch.nn as nn\n",
        "from torchvision.transforms import transforms\n",
        "from torch.utils.data import DataLoader, random_split\n",
        "from torch.optim import Adam\n",
        "from torch.autograd import Variable\n",
        "import torchvision\n",
        "import pathlib\n",
        "import matplotlib.pyplot as plt\n"
      ]
    },
    {
      "cell_type": "code",
      "execution_count": null,
      "id": "a9b3166a",
      "metadata": {
        "id": "a9b3166a",
        "outputId": "a234e75c-ad85-4198-b726-9c66ba58cbba"
      },
      "outputs": [
        {
          "name": "stdout",
          "output_type": "stream",
          "text": [
            "cuda\n"
          ]
        }
      ],
      "source": [
        "#checking for device\n",
        "device=torch.device('cuda' if torch.cuda.is_available() else 'cpu')\n",
        "print(device)"
      ]
    },
    {
      "cell_type": "code",
      "execution_count": null,
      "id": "160f6625",
      "metadata": {
        "id": "160f6625"
      },
      "outputs": [],
      "source": [
        "#Transforms\n",
        "transformer=transforms.Compose([\n",
        "    transforms.Resize((150,150)),\n",
        "    transforms.RandomHorizontalFlip(),\n",
        "    transforms.ToTensor(),  #0-255 to 0-1, numpy to tensors\n",
        "    transforms.Normalize([0.5,0.5,0.5], # 0-1 to [-1,1] , formula (x-mean)/std\n",
        "                        [0.5,0.5,0.5])\n",
        "])"
      ]
    },
    {
      "cell_type": "code",
      "execution_count": null,
      "id": "1778c4c2",
      "metadata": {
        "id": "1778c4c2"
      },
      "outputs": [],
      "source": [
        "train_path= \"C:/Users/jntan/OneDrive/Documents/Farmbot_MSDS_453/train\"\n",
        "test_path= \"C:/Users/jntan/OneDrive/Documents/Farmbot_MSDS_453/test\"\n",
        "\n",
        "train_loader=DataLoader(\n",
        "    torchvision.datasets.ImageFolder(train_path,transform=transformer),\n",
        "    batch_size=64, shuffle=True\n",
        ")\n",
        "test_loader=DataLoader(\n",
        "    torchvision.datasets.ImageFolder(test_path,transform=transformer),\n",
        "    batch_size=32, shuffle=True\n",
        ")"
      ]
    },
    {
      "cell_type": "code",
      "execution_count": null,
      "id": "88f94483",
      "metadata": {
        "id": "88f94483"
      },
      "outputs": [],
      "source": [
        "#categories\n",
        "root=pathlib.Path(train_path)\n",
        "classes=sorted([j.name.split('/')[-1] for j in root.iterdir()])"
      ]
    },
    {
      "cell_type": "code",
      "execution_count": null,
      "id": "d73a3718",
      "metadata": {
        "id": "d73a3718",
        "outputId": "5483f77d-b2cf-48a5-e35d-000ff83eb21d"
      },
      "outputs": [
        {
          "name": "stdout",
          "output_type": "stream",
          "text": [
            "['bacterial_blight', 'cercospora_leaf_blight', 'downey_mildew', 'frogeye', 'healthy', 'potassium_deficiency', 'soybean_rust', 'target_spot']\n"
          ]
        }
      ],
      "source": [
        "print(classes)"
      ]
    },
    {
      "cell_type": "code",
      "execution_count": null,
      "id": "884ac4ff",
      "metadata": {
        "id": "884ac4ff"
      },
      "outputs": [],
      "source": [
        "# Plot the distribution of images in each class\n",
        "plt.figure(figsize=(10, 5))\n",
        "plt.bar(classes, class_counts.values())\n",
        "plt.xlabel('Class')\n",
        "plt.ylabel('Number of Images')\n",
        "plt.title('Distribution of Images per Class')\n",
        "plt.xticks(rotation=45)\n",
        "plt.show()\n",
        "\n",
        "# Display two example images from each class\n",
        "fig, axes = plt.subplots(len(classes), 2, figsize=(10, 5*len(classes)))\n",
        "for i, class_name in enumerate(classes):\n",
        "    class_dir = root / class_name\n",
        "    image_files = list(class_dir.glob('*'))[:2]  # Get the first two image files\n",
        "    for j, image_file in enumerate(image_files):\n",
        "        image = plt.imread(str(image_file))\n",
        "        axes[i, j].imshow(image)\n",
        "        axes[i, j].set_title(f'{class_name} - Example {j+1}')\n",
        "        axes[i, j].axis('off')\n",
        "\n",
        "plt.tight_layout()\n",
        "plt.show()"
      ]
    },
    {
      "cell_type": "code",
      "execution_count": null,
      "id": "0bc9f28d",
      "metadata": {
        "id": "0bc9f28d"
      },
      "outputs": [],
      "source": [
        "#CNN Network\n",
        "class ConvNet(nn.Module):\n",
        "    def __init__(self,num_classes=8):\n",
        "        super(ConvNet,self).__init__()\n",
        "\n",
        "        #Output size after convolution filter\n",
        "        #((w-f+2P)/s) +1\n",
        "\n",
        "        #Input shape= (256,3,150,150)\n",
        "\n",
        "        self.conv1=nn.Conv2d(in_channels=3,out_channels=12,kernel_size=3,stride=1,padding=1)\n",
        "        #Shape= (256,12,150,150)\n",
        "        self.bn1=nn.BatchNorm2d(num_features=12)\n",
        "        #Shape= (256,12,150,150)\n",
        "        self.relu1=nn.ReLU()\n",
        "        #Shape= (256,12,150,150)\n",
        "\n",
        "        self.pool=nn.MaxPool2d(kernel_size=2)\n",
        "        #Reduce the image size be factor 2\n",
        "        #Shape= (256,12,75,75)\n",
        "\n",
        "\n",
        "        self.conv2=nn.Conv2d(in_channels=12,out_channels=20,kernel_size=3,stride=1,padding=1)\n",
        "        #Shape= (256,20,75,75)\n",
        "        self.relu2=nn.ReLU()\n",
        "        #Shape= (256,20,75,75)\n",
        "\n",
        "\n",
        "\n",
        "        self.conv3=nn.Conv2d(in_channels=20,out_channels=32,kernel_size=3,stride=1,padding=1)\n",
        "        #Shape= (256,32,75,75)\n",
        "        self.bn3=nn.BatchNorm2d(num_features=32)\n",
        "        #Shape= (256,32,75,75)\n",
        "        self.relu3=nn.ReLU()\n",
        "        #Shape= (256,32,75,75)\n",
        "\n",
        "\n",
        "        self.fc=nn.Linear(in_features=75 * 75 * 32,out_features=num_classes)\n",
        "\n",
        "\n",
        "\n",
        "        #Feed forwad function\n",
        "\n",
        "    def forward(self,input):\n",
        "        output=self.conv1(input)\n",
        "        output=self.bn1(output)\n",
        "        output=self.relu1(output)\n",
        "\n",
        "        output=self.pool(output)\n",
        "\n",
        "        output=self.conv2(output)\n",
        "        output=self.relu2(output)\n",
        "\n",
        "        output=self.conv3(output)\n",
        "        output=self.bn3(output)\n",
        "        output=self.relu3(output)\n",
        "\n",
        "\n",
        "            #Above output will be in matrix form, with shape (256,32,75,75)\n",
        "\n",
        "        output=output.view(-1,32*75*75)\n",
        "\n",
        "\n",
        "        output=self.fc(output)\n",
        "\n",
        "        return output\n",
        ""
      ]
    },
    {
      "cell_type": "code",
      "execution_count": null,
      "id": "93033e8a",
      "metadata": {
        "id": "93033e8a"
      },
      "outputs": [],
      "source": [
        "model=ConvNet(num_classes=8).to(device)"
      ]
    },
    {
      "cell_type": "code",
      "execution_count": null,
      "id": "94cdb6b7",
      "metadata": {
        "id": "94cdb6b7"
      },
      "outputs": [],
      "source": [
        "#Optmizer and loss function\n",
        "optimizer=Adam(model.parameters(),lr=0.001,weight_decay=0.0001)\n",
        "loss_function=nn.CrossEntropyLoss()"
      ]
    },
    {
      "cell_type": "code",
      "execution_count": null,
      "id": "6d0c76d2",
      "metadata": {
        "id": "6d0c76d2"
      },
      "outputs": [],
      "source": [
        "num_epochs=10"
      ]
    },
    {
      "cell_type": "code",
      "execution_count": null,
      "id": "e2bf4f88",
      "metadata": {
        "id": "e2bf4f88",
        "outputId": "36868798-862e-404e-fd7a-bc70dc2b23b6"
      },
      "outputs": [
        {
          "name": "stdout",
          "output_type": "stream",
          "text": [
            "4680 1567\n"
          ]
        }
      ],
      "source": [
        "#calculating the size of training and testing images\n",
        "train_count=len(glob.glob(train_path+'/**/*.jpg'))\n",
        "test_count=len(glob.glob(test_path+'/**/*.jpg'))\n",
        "\n",
        "print(train_count,test_count)"
      ]
    },
    {
      "cell_type": "code",
      "execution_count": null,
      "id": "ed61fdfb",
      "metadata": {
        "id": "ed61fdfb",
        "outputId": "73d365ed-162f-4324-c637-2764f389a4f5"
      },
      "outputs": [
        {
          "name": "stdout",
          "output_type": "stream",
          "text": [
            "Model is running on GPU\n"
          ]
        }
      ],
      "source": [
        "if next(model.parameters()).is_cuda:\n",
        "    print(\"Model is running on GPU\")\n",
        "else:\n",
        "    print(\"Model is running on CPU\")"
      ]
    },
    {
      "cell_type": "code",
      "execution_count": null,
      "id": "eb208b96",
      "metadata": {
        "id": "eb208b96",
        "outputId": "3816f922-f4a1-4c8b-cafe-94391dc92e48"
      },
      "outputs": [
        {
          "name": "stdout",
          "output_type": "stream",
          "text": [
            "Epoch: 0 Train Loss: tensor(0.2965) Train Accuracy: 0.9423076923076923 Test Accuracy: 0.587747287811104\n",
            "Epoch: 1 Train Loss: tensor(0.1944) Train Accuracy: 0.95491452991453 Test Accuracy: 0.6279514996809189\n",
            "Epoch: 2 Train Loss: tensor(0.1396) Train Accuracy: 0.9651709401709402 Test Accuracy: 0.583918315252074\n",
            "Epoch: 3 Train Loss: tensor(0.1352) Train Accuracy: 0.9658119658119658 Test Accuracy: 0.6400765794511806\n",
            "Epoch: 4 Train Loss: tensor(0.0581) Train Accuracy: 0.985897435897436 Test Accuracy: 0.6368857689853222\n",
            "Epoch: 5 Train Loss: tensor(0.1345) Train Accuracy: 0.9664529914529915 Test Accuracy: 0.6151882578174857\n"
          ]
        }
      ],
      "source": [
        "import matplotlib.pyplot as plt\n",
        "\n",
        "# Lists to store the loss and accuracy values for each epoch\n",
        "train_losses = []\n",
        "train_accuracies = []\n",
        "test_accuracies = []\n",
        "\n",
        "# Model training and saving best model\n",
        "best_accuracy = 0.0\n",
        "\n",
        "for epoch in range(num_epochs):\n",
        "    # Evaluation and training on training dataset\n",
        "    model.train()\n",
        "    train_accuracy = 0.0\n",
        "    train_loss = 0.0\n",
        "\n",
        "    for i, (images, labels) in enumerate(train_loader):\n",
        "        images = images.to(device)\n",
        "        labels = labels.to(device)\n",
        "        optimizer.zero_grad()\n",
        "        outputs = model(images)\n",
        "        loss = loss_function(outputs, labels)\n",
        "        loss.backward()\n",
        "        optimizer.step()\n",
        "        train_loss += loss.cpu().data * images.size(0)\n",
        "        _, prediction = torch.max(outputs.data, 1)\n",
        "        train_accuracy += int(torch.sum(prediction == labels.data))\n",
        "\n",
        "    train_accuracy = train_accuracy / train_count\n",
        "    train_loss = train_loss / train_count\n",
        "\n",
        "    # Store the train loss and accuracy for each epoch\n",
        "    train_losses.append(train_loss.item())\n",
        "    train_accuracies.append(train_accuracy)\n",
        "\n",
        "    # Evaluation on testing dataset\n",
        "    with torch.no_grad():\n",
        "        model.eval()\n",
        "        test_accuracy = 0.0\n",
        "        for images, labels in test_loader:\n",
        "            images = images.to(device)\n",
        "            labels = labels.to(device)\n",
        "            outputs = model(images)\n",
        "            _, prediction = torch.max(outputs, 1)\n",
        "            test_accuracy += int(torch.sum(prediction == labels))\n",
        "\n",
        "    test_accuracy = test_accuracy / test_count\n",
        "\n",
        "    # Store the test accuracy for each epoch\n",
        "    test_accuracies.append(test_accuracy)\n",
        "\n",
        "    print('Epoch: ' + str(epoch) + ' Train Loss: ' + str(train_loss) + ' Train Accuracy: ' + str(train_accuracy) + ' Test Accuracy: ' + str(test_accuracy))\n",
        "\n",
        "    # Save the best model\n",
        "    if test_accuracy > best_accuracy:\n",
        "        torch.save(model.state_dict(), 'best_checkpoint.model')\n",
        "        best_accuracy = test_accuracy\n",
        "\n",
        "# Plot the training loss graph\n",
        "plt.figure(figsize=(10, 5))\n",
        "plt.plot(train_losses, label='Training Loss')\n",
        "plt.xlabel('Epoch')\n",
        "plt.ylabel('Loss')\n",
        "plt.legend()\n",
        "plt.title('Training Loss')\n",
        "plt.show()\n",
        "\n",
        "# Plot the training and testing accuracy graph\n",
        "plt.figure(figsize=(10, 5))\n",
        "plt.plot(train_accuracies, label='Training Accuracy')\n",
        "plt.plot(test_accuracies, label='Testing Accuracy')\n",
        "plt.xlabel('Epoch')\n",
        "plt.ylabel('Accuracy')\n",
        "plt.legend()\n",
        "plt.title('Model Accuracy')\n",
        "plt.show()"
      ]
    },
    {
      "cell_type": "code",
      "execution_count": null,
      "id": "f476563d",
      "metadata": {
        "id": "f476563d",
        "outputId": "9ee057aa-d8f8-448f-ecab-82767c2cb6de"
      },
      "outputs": [
        {
          "data": {
            "text/plain": [
              "'model_architecture.png'"
            ]
          },
          "execution_count": 30,
          "metadata": {},
          "output_type": "execute_result"
        }
      ],
      "source": [
        "# Save the visualization as a PNG image\n",
        "model_viz.render(\"model_architecture\", format=\"png\")"
      ]
    },
    {
      "cell_type": "code",
      "execution_count": null,
      "id": "ea0aaf3a",
      "metadata": {
        "id": "ea0aaf3a",
        "outputId": "bc4fec29-4470-4f01-8a00-e86255feffd6"
      },
      "outputs": [
        {
          "data": {
            "image/png": "[encoded data removed]",
            "text/plain": [
              "<IPython.core.display.Image object>"
            ]
          },
          "execution_count": 33,
          "metadata": {},
          "output_type": "execute_result"
        }
      ],
      "source": [
        "display.Image(\"model_architecture.png\")"
      ]
    },
    {
      "cell_type": "code",
      "execution_count": null,
      "id": "8a5106cc",
      "metadata": {
        "id": "8a5106cc"
      },
      "outputs": [],
      "source": [
        "import matplotlib.pyplot as plt\n",
        "\n",
        "# Extract the epoch numbers and accuracies from the provided information\n",
        "epochs = [0, 1, 2, 3, 4, 5, 6, 7, 8, 9]\n",
        "train_accuracies = [0.5465811965811965, 0.6561965811965812, 0.7418803418803419, 0.7818376068376068, 0.8314102564102565,\n",
        "                    0.836965811965812, 0.8771367521367521, 0.9091880341880342, 0.8893162393162393, 0.9294871794871795]\n",
        "test_accuracies = [0.40331844288449265, 0.5149968091895342, 0.5137204850031908, 0.5188257817485641, 0.6100829610721124,\n",
        "                   0.4473516273133376, 0.568602425015954, 0.4913848117421825, 0.4416081684747926, 0.553286534779834]\n",
        "\n",
        "# Create a new figure and axis\n",
        "fig, ax = plt.subplots(figsize=(10, 6))\n",
        "\n",
        "# Plot the training and test accuracies\n",
        "ax.plot(epochs, train_accuracies, marker='o', label='Training Accuracy')\n",
        "ax.plot(epochs, test_accuracies, marker='o', label='Test Accuracy')\n",
        "\n",
        "# Set the title and labels for the graph\n",
        "ax.set_title('Model Accuracy')\n",
        "ax.set_xlabel('Epoch')\n",
        "ax.set_ylabel('Accuracy')\n",
        "\n",
        "# Add a legend\n",
        "ax.legend()\n",
        "\n",
        "# Display the graph\n",
        "plt.tight_layout()\n",
        "plt.show()"
      ]
    }
  ],
  "metadata": {
    "kernelspec": {
      "display_name": "gpu2",
      "language": "python",
      "name": "gpu2"
    },
    "language_info": {
      "codemirror_mode": {
        "name": "ipython",
        "version": 3
      },
      "file_extension": ".py",
      "mimetype": "text/x-python",
      "name": "python",
      "nbconvert_exporter": "python",
      "pygments_lexer": "ipython3",
      "version": "3.10.9"
    },
    "colab": {
      "provenance": [],
      "include_colab_link": true
    }
  },
  "nbformat": 4,
  "nbformat_minor": 5
}